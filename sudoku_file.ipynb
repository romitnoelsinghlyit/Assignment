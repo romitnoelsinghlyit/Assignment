{
  "nbformat": 4,
  "nbformat_minor": 0,
  "metadata": {
    "colab": {
      "name": "sudoku_file.ipynb",
      "provenance": [],
      "collapsed_sections": [],
      "toc_visible": true,
      "mount_file_id": "1ecglTKrkXZD7pSIFNB1XUIKWgm06JPH9",
      "authorship_tag": "ABX9TyMs9mw3vT8ijRunFaRAeo1H",
      "include_colab_link": true
    },
    "kernelspec": {
      "name": "python3",
      "display_name": "Python 3"
    }
  },
  "cells": [
    {
      "cell_type": "markdown",
      "metadata": {
        "id": "view-in-github",
        "colab_type": "text"
      },
      "source": [
        "<a href=\"https://colab.research.google.com/github/romitnoelsinghlyit/Assignment/blob/master/sudoku_file.ipynb\" target=\"_parent\"><img src=\"https://colab.research.google.com/assets/colab-badge.svg\" alt=\"Open In Colab\"/></a>"
      ]
    },
    {
      "cell_type": "code",
      "metadata": {
        "id": "57vpW0BA7VCc"
      },
      "source": [
        "from time import time\n",
        "import os\n",
        "def validityChecker(a,b,c,grid):\n",
        "    # validating row\n",
        "    for col in range(9):\n",
        "        if grid[a][col]==c:\n",
        "            return False\n",
        "    \n",
        "    # validating  column\n",
        "    for row in range(9):\n",
        "        if grid[row][b]==c:\n",
        "            return False\n",
        "    \n",
        "    # validating  sub-grid\n",
        "    startrow=a-a%3\n",
        "    startcol=b-b%3\n",
        "    \n",
        "    r=startrow\n",
        "    while r<=startrow+2:\n",
        "        l=startcol\n",
        "        while l<=startcol+2:\n",
        "            if grid[r][l]==c:\n",
        "                return False\n",
        "            l+=1\n",
        "        r+=1\n",
        "    \n",
        "    return True\n",
        "def Backtracker(a,b,grid):\n",
        "    if a==8 and b==8:\n",
        "        if grid[a][b]!=0:\n",
        "            for row in grid:\n",
        "                for num in row:\n",
        "                    print(num, end=\" \")\n",
        "                print()\n",
        "        else:\n",
        "            for c in range(1,10):\n",
        "                if validityChecker(a,b,c,grid) is True:\n",
        "                    grid[a][b]=c\n",
        "                    for row in grid:\n",
        "                        for num in row:\n",
        "                            print(num, end=\" \")\n",
        "                        print()\n",
        "                    grid[a][b]=0\n",
        "        print()\n",
        "        return\n",
        "    \n",
        "    if b>8:\n",
        "        Backtracker(a+1,0,grid)  \n",
        "        return\n",
        "    \n",
        "    if grid[a][b]==0:\n",
        "        for c in range(1,10):\n",
        "            if validityChecker(a,b,c,grid) is True:\n",
        "                grid[a][b]=c\n",
        "                Backtracker(a,b+1,grid) \n",
        "                grid[a][b]=0\n",
        "    else:\n",
        "        Backtracker(a,b+1,grid)\n",
        "    return\n",
        "def solutionFinder(grid):\n",
        "    Backtracker(0,0,grid)\n",
        "grid=[]\n",
        "for a in range(9):\n",
        "    #print(\"Enter numbers(0-9)separated by a space for row {}\".format(a))\n",
        "    with open('/content/drive/MyDrive/Colab Notebooks/training_puzzles.txt') as f:\n",
        "        lines = f.readlines()\n",
        "\n",
        "    #row=[int(c) for c in input().strip().split()]\n",
        "    row=[[list(group) for group in line.split()] for line in lines]\n",
        "    grid.append(row)\n",
        "print()\n",
        "start=time()\n",
        "solutionFinder(grid)\n",
        "end=time()\n",
        "print(\"Time Elapsed:{}\".format(end-start))\n",
        "\n"
      ],
      "execution_count": null,
      "outputs": []
    },
    {
      "cell_type": "markdown",
      "metadata": {
        "id": "jQ0WrvBb-bDU"
      },
      "source": [
        "# New Section"
      ]
    }
  ]
}
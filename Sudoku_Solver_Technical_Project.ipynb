{
  "nbformat": 4,
  "nbformat_minor": 0,
  "metadata": {
    "colab": {
      "name": "Sudoku_Solver_Technical_Project.ipynb",
      "provenance": [],
      "collapsed_sections": [],
      "authorship_tag": "ABX9TyNKOD2YQQ43i+IgR23r5l5D",
      "include_colab_link": true
    },
    "kernelspec": {
      "name": "python3",
      "display_name": "Python 3"
    }
  },
  "cells": [
    {
      "cell_type": "markdown",
      "metadata": {
        "id": "view-in-github",
        "colab_type": "text"
      },
      "source": [
        "<a href=\"https://colab.research.google.com/github/romitnoelsinghlyit/Assignment/blob/master/Sudoku_Solver_Technical_Project.ipynb\" target=\"_parent\"><img src=\"https://colab.research.google.com/assets/colab-badge.svg\" alt=\"Open In Colab\"/></a>"
      ]
    },
    {
      "cell_type": "code",
      "metadata": {
        "id": "WrvAaJpWwQyr",
        "colab": {
          "base_uri": "https://localhost:8080/"
        },
        "outputId": "9ded1a78-20ed-4b99-adbb-d3313f28e9c5"
      },
      "source": [
        "from time import time\n",
        "def validityChecker(a,b,c,grid):\n",
        "    # validating row\n",
        "    for col in range(9):\n",
        "        if grid[a][col]==c:\n",
        "            return False\n",
        "    \n",
        "    # validating  column\n",
        "    for row in range(9):\n",
        "        if grid[row][b]==c:\n",
        "            return False\n",
        "    \n",
        "    # validating  sub-grid\n",
        "    startrow=a-a%3\n",
        "    startcol=b-b%3\n",
        "    \n",
        "    r=startrow\n",
        "    while r<=startrow+2:\n",
        "        l=startcol\n",
        "        while l<=startcol+2:\n",
        "            if grid[r][l]==c:\n",
        "                return False\n",
        "            l+=1\n",
        "        r+=1\n",
        "    \n",
        "    return True\n",
        "def Backtracker(a,b,grid):\n",
        "    if a==8 and b==8:\n",
        "        if grid[a][b]!=0:\n",
        "            for row in grid:\n",
        "                for num in row:\n",
        "                    print(num, end=\" \")\n",
        "                print()\n",
        "        else:\n",
        "            for c in range(1,10):\n",
        "                if validityChecker(a,b,c,grid) is True:\n",
        "                    grid[a][b]=c\n",
        "                    for row in grid:\n",
        "                        for num in row:\n",
        "                            print(num, end=\" \")\n",
        "                        print()\n",
        "                    grid[a][b]=0\n",
        "        print()\n",
        "        return\n",
        "    \n",
        "    if b>8:\n",
        "        Backtracker(a+1,0,grid)  \n",
        "        return\n",
        "    \n",
        "    if grid[a][b]==0:\n",
        "        for c in range(1,10):\n",
        "            if validityChecker(a,b,c,grid) is True:\n",
        "                grid[a][b]=c\n",
        "                Backtracker(a,b+1,grid) \n",
        "                grid[a][b]=0\n",
        "    else:\n",
        "        Backtracker(a,b+1,grid)\n",
        "    return\n",
        "def solutionFinder(grid):\n",
        "    Backtracker(0,0,grid)\n",
        "grid=[]\n",
        "for a in range(9):\n",
        "    print(\"Enter numbers(0-9)separated by a space for row {}\".format(a))\n",
        "    row=[int(c) for c in input().strip().split()]\n",
        "    grid.append(row)\n",
        "print()\n",
        "start=time()\n",
        "solutionFinder(grid)\n",
        "end=time()\n",
        "print(\"Time Elapsed:{}\".format(end-start))\n",
        "\n"
      ],
      "execution_count": null,
      "outputs": [
        {
          "output_type": "stream",
          "text": [
            "Enter numbers(0-9)separated by a space for row 0\n",
            "3 0 0 0 7 0 0 0 1 \n",
            "Enter numbers(0-9)separated by a space for row 1\n",
            "0 0 0 0 0 0 0 5 6 \n",
            "Enter numbers(0-9)separated by a space for row 2\n",
            "0 4 0 1 0 6 0 0 0 \n",
            "Enter numbers(0-9)separated by a space for row 3\n",
            "0 7 0 4 0 5 3 1 2 \n",
            "Enter numbers(0-9)separated by a space for row 4\n",
            "0 2 3 7 0 0 0 0 0 \n",
            "Enter numbers(0-9)separated by a space for row 5\n",
            "0 9 0 2 0 0 0 7 8 \n",
            "Enter numbers(0-9)separated by a space for row 6\n",
            "0 0 4 9 8 0 0 6 0\n",
            "Enter numbers(0-9)separated by a space for row 7\n",
            "0 0 2 6 0 0 0 8 7 \n",
            "Enter numbers(0-9)separated by a space for row 8\n",
            "0 0 8 0 0 0 0 3 0 \n",
            "\n",
            "3 6 5 8 7 9 4 2 1 \n",
            "1 8 9 3 4 2 7 5 6 \n",
            "2 4 7 1 5 6 8 9 3 \n",
            "8 7 6 4 9 5 3 1 2 \n",
            "5 2 3 7 1 8 6 4 9 \n",
            "4 9 1 2 6 3 5 7 8 \n",
            "7 3 4 9 8 1 2 6 5 \n",
            "9 5 2 6 3 4 1 8 7 \n",
            "6 1 8 5 2 7 9 3 4 \n",
            "\n",
            "Time Elapsed:0.057735443115234375\n"
          ],
          "name": "stdout"
        }
      ]
    }
  ]
}